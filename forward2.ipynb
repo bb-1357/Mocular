{
 "cells": [
  {
   "cell_type": "code",
   "execution_count": null,
   "metadata": {},
   "outputs": [],
   "source": [
    "#coding:utf-8\n",
    "import time\n",
    "import tensorflow as tf\n",
    "from tensorflow.examples.tutorials.mnist import input_data\n",
    "import mnist_lenet5_forward\n",
    "import mnist_lenet5_backward\n",
    "import numpy as np\n",
    "TEST_INTERVAL_SECS = 5\n",
    "def test(mnist):\n",
    "# 创建一个默认图,在该图中执行以下操作(多数操作和 train 中一样,就不再重复解释,大家对照学习即可)\n",
    "with tf.Graph().as_default() as g:x = tf.placeholder(tf.float32,[\n",
    "mnist.test.num_examples,\n",
    "mnist_lenet5_forward.IMAGE_SIZE,\n",
    "mnist_lenet5_forward.IMAGE_SIZE,\n",
    "mnist_lenet5_forward.NUM_CHANNELS])\n",
    "y_ = tf.placeholder(tf.float32, [None, mnist_lenet5_forward.OUTPUT_NODE])\n",
    "y = mnist_lenet5_forward.forward(x,False,None)\n",
    "ema\n",
    "=\n",
    "tf.train.ExponentialMovingAverage(mnist_lenet5_backward.MOVING_AVERAGE_DECAY)\n",
    "ema_restore = ema.variables_to_restore()\n",
    "saver = tf.train.Saver(ema_restore)\n",
    "correct_prediction = tf.equal(tf.argmax(y, 1), tf.argmax(y_, 1)) # 判断预测值和实际值是否\n",
    "相同\n",
    "accuracy = tf.reduce_mean(tf.cast(correct_prediction, tf.float32)) # 求平均得到准确率\n",
    "while True:\n",
    "with tf.Session() as sess:\n",
    "    ckpt=tf.train.get_checkpoint_state(mnist_lenet5_backward.MODEL_SAVE_PATH)\n",
    "    if ckpt and ckpt.model_checkpoint_path:\n",
    "    saver.restore(sess, ckpt.model_checkpoint_path)\n",
    "# 根据读入的模型名字切分出该模型是属于迭代了多少次保存的\n",
    "    global_step = ckpt.model_checkpoint_path.split('/')[-1].split('-')[-1]\n",
    "    reshaped_x = np.reshape(mnist.test.images,(\n",
    "    mnist.test.num_examples,\n",
    "    mnist_lenet5_forward.IMAGE_SIZE,\n",
    "    mnist_lenet5_forward.IMAGE_SIZE,mnist_lenet5_forward.NUM_CHANNELS))\n",
    "    accuracy_score=sess.run(accuracy,feed_dict={x:reshaped_x,y_:mnist.test.labels}) # 计算出测试集上准确率\n",
    "    print(\"After %s training step(s), test accuracy = %g\" % (global_step,accuracy_score))\n",
    "    else:\n",
    "    print('No checkpoint file found')\n",
    "    return\n",
    "    time.sleep(TEST_INTERVAL_SECS) # 每隔 5 秒寻找一次是否有最新的模型"
   ]
  }
 ],
 "metadata": {
  "kernelspec": {
   "display_name": "Python 3",
   "language": "python",
   "name": "python3"
  },
  "language_info": {
   "codemirror_mode": {
    "name": "ipython",
    "version": 3
   },
   "file_extension": ".py",
   "mimetype": "text/x-python",
   "name": "python",
   "nbconvert_exporter": "python",
   "pygments_lexer": "ipython3",
   "version": "3.6.8"
  }
 },
 "nbformat": 4,
 "nbformat_minor": 2
}
